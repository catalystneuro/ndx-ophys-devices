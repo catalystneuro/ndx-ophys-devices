{
 "cells": [
  {
   "cell_type": "code",
   "execution_count": 4,
   "id": "4e3c7e61",
   "metadata": {},
   "outputs": [
    {
     "data": {
      "text/html": [
       "<img src=\"https://mermaid.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\"/>"
      ],
      "text/plain": [
       "<IPython.core.display.Image object>"
      ]
     },
     "metadata": {},
     "output_type": "display_data"
    }
   ],
   "source": [
    "import base64\n",
    "from IPython.display import Image, display\n",
    "\n",
    "def mm(graph):\n",
    "    graphbytes = graph.encode(\"utf8\")\n",
    "    base64_bytes = base64.b64encode(graphbytes)\n",
    "    base64_string = base64_bytes.decode(\"ascii\")\n",
    "    display(Image(url=\"https://mermaid.ink/img/\" + base64_string))\n",
    "\n",
    "mm(\"\"\"\n",
    "%%{init: {'theme': 'base', 'themeVariables': {'primaryColor': '#ffffff', \"primaryBorderColor': '#144E73', 'lineColor': '#D96F32'}}}%%\n",
    "classDiagram\n",
    "    direction BT\n",
    "    class DeviceModel{\n",
    "        <<Device>>\n",
    "        --------------------------------------\n",
    "        attributes\n",
    "        --------------------------------------\n",
    "        model : text, optional\n",
    "    }\n",
    "    class Indicator{\n",
    "        <<Device>>\n",
    "        --------------------------------------\n",
    "        attributes\n",
    "        --------------------------------------\n",
    "        label : text\n",
    "        injection_location : text, optional\n",
    "        injection_coordinates_in_mm : numeric, length 3, optional\n",
    "    }\n",
    "    class Effector{\n",
    "        <<Device>>\n",
    "        --------------------------------------\n",
    "        attributes\n",
    "        --------------------------------------\n",
    "        label : text\n",
    "        injection_location : text, optional\n",
    "        injection_coordinates_in_mm : numeric, length 3, optional\n",
    "    }\n",
    "    class OpticalFiber{\n",
    "        <<DeviceModel>>\n",
    "        --------------------------------------\n",
    "        attributes\n",
    "        --------------------------------------\n",
    "        numerical_aperture : numeric, optional\n",
    "        core_diameter_in_um : numeric, optional\n",
    "    }\n",
    "    class ExcitationSource{\n",
    "        <<DeviceModel>>\n",
    "        --------------------------------------\n",
    "        attributes\n",
    "        --------------------------------------\n",
    "        illumination_type : text, optional\n",
    "        excitation_wavelength_in_nm : numeric, optional\n",
    "        power_in_W : numeric, optional\n",
    "        intensity_in_W_per_m2 : numeric, optional\n",
    "        exposure_time_in_s : numeric, optional\n",
    "    }\n",
    "    class PulsedExcitationSource{\n",
    "        <<DeviceModel>>\n",
    "        --------------------------------------\n",
    "        attributes\n",
    "        --------------------------------------\n",
    "        peak_power_in_W : numeric, optional\n",
    "        peak_pulse_energy_in_J : numeric, optional\n",
    "        pulse_rate_in_Hz : numeric, optional\n",
    "    }\n",
    "    class Photodetector{\n",
    "        <<DeviceModel>>\n",
    "        --------------------------------------\n",
    "        attributes\n",
    "        --------------------------------------\n",
    "        detector_type : text, optional\n",
    "        detected_wavelength_in_nm : numeric, optional\n",
    "        gain : numeric, optional\n",
    "    }\n",
    "    class DichroicMirror{\n",
    "        <<DeviceModel>>\n",
    "        --------------------------------------\n",
    "        attributes\n",
    "        --------------------------------------\n",
    "        cut_on_wavelength_in_nm : numeric, optional\n",
    "        cut_off_wavelength_in_nm : numeric, optional\n",
    "        reflection_bandwidth_in_nm : numeric, optional\n",
    "        transmission_bandwidth_in_nm : numeric, optional\n",
    "        angle_of_incidence_in_degrees : numeric, optional\n",
    "    }\n",
    "    class OpticalFilter{\n",
    "        <<DeviceModel>>\n",
    "        --------------------------------------\n",
    "        attributes\n",
    "        --------------------------------------\n",
    "        filter_type : text, optional\n",
    "    }\n",
    "    class BandOpticalFilter{\n",
    "        <<OpticalFilter>>\n",
    "        --------------------------------------\n",
    "        attributes\n",
    "        --------------------------------------\n",
    "        center_wavelength_in_nm : numeric\n",
    "        bandwidth_in_nm : numeric\n",
    "    }\n",
    "    class EdgeOpticalFilter{\n",
    "        <<OpticalFilter>>\n",
    "        --------------------------------------\n",
    "        attributes\n",
    "        --------------------------------------\n",
    "        cut_wavelength_in_nm : numeric\n",
    "        slope_in_percent_cut_wavelength : numeric, optional\n",
    "        slope_starting_transmission_in_percent : numeric, optional\n",
    "        slope_ending_transmission_in_percent : numeric, optional\n",
    "    }\n",
    "    class ObjectiveLens{\n",
    "        <<DeviceModel>>\n",
    "        --------------------------------------\n",
    "        attributes\n",
    "        --------------------------------------\n",
    "        numerical_aperture : numeric, optional\n",
    "        magnification : numeric, optional\n",
    "    }\n",
    "\n",
    "    OpticalFiber *-- DeviceModel : extends\n",
    "    ExcitationSource *-- DeviceModel : extends\n",
    "    PulsedExcitationSource *-- ExcitationSource : extends\n",
    "    Photodetector *-- DeviceModel : extends\n",
    "    DichroicMirror *-- DeviceModel : extends\n",
    "    ObjectiveLens *-- DeviceModel : extends\n",
    "    OpticalFilter *-- DeviceModel : extends\n",
    "    BandOpticalFilter *-- OpticalFilter : extends\n",
    "    EdgeOpticalFilter *-- OpticalFilter : extends\n",
    "\"\"\")"
   ]
  },
  {
   "cell_type": "markdown",
   "id": "174c5018-1c0a-4f55-899d-049bb87f63d5",
   "metadata": {},
   "source": [
    "# Example demonstration of the example TetrodeSeries extension neurodata type\n",
    "\n",
    "TODO: Update this notebook with an example usage of your extension"
   ]
  },
  {
   "cell_type": "code",
   "execution_count": null,
   "id": "02798a80-faea-4b75-aa97-70afad90fe27",
   "metadata": {},
   "outputs": [],
   "source": [
    "from pynwb import NWBHDF5IO, NWBFile\n",
    "from pynwb.testing.mock.file import mock_NWBFile\n",
    "\n",
    "#from ndx_ophys_devices import TetrodeSeries\n",
    "\n",
    "\n",
    "def set_up_nwbfile(nwbfile: NWBFile = None):\n",
    "    \"\"\"Create an NWBFile with a .\"\"\"\n",
    "    nwbfile = nwbfile or mock_NWBFile()\n",
    "\n",
    "    return nwbfile"
   ]
  },
  {
   "cell_type": "markdown",
   "id": "32be75e4-8fe9-401d-a613-8080f357d5f0",
   "metadata": {},
   "source": "Create an `NWBFile` object and a `...` object and add the `...` object to the `NWBFile`"
  },
  {
   "cell_type": "code",
   "execution_count": null,
   "id": "dcd2c070-f2c9-4ffc-8637-25ec3e6f7b37",
   "metadata": {},
   "outputs": [],
   "source": [
    "nwbfile = set_up_nwbfile()\n",
    "\n",
    "\n",
    "# nwbfile.add_acquisition(tetrode_series)"
   ]
  },
  {
   "cell_type": "markdown",
   "id": "ac894fae-6c5e-4a3d-be1e-d158aef084a4",
   "metadata": {},
   "source": [
    "Write the file with the extension neurodata type to disk"
   ]
  },
  {
   "cell_type": "code",
   "execution_count": null,
   "id": "2fdaf978-6f95-4871-b26c-dad4bb62da42",
   "metadata": {},
   "outputs": [],
   "source": [
    "with NWBHDF5IO(\"test.nwb\", \"w\") as io:\n",
    "    io.write(nwbfile)"
   ]
  },
  {
   "cell_type": "markdown",
   "id": "a30660a3-8e64-4c5e-963d-6ecd7e31897e",
   "metadata": {},
   "source": [
    "Read the NWB file from disk and print the `TetrodeSeries` object"
   ]
  },
  {
   "cell_type": "code",
   "execution_count": null,
   "id": "00e38084-b55e-4c7a-ac89-8b10e43f41c1",
   "metadata": {},
   "outputs": [],
   "source": [
    "with NWBHDF5IO(\"test.nwb\", \"r\") as io:\n",
    "    read_nwbfile = io.read()\n",
    "    # print(read_nwbfile.acquisition[\"TetrodeSeries\"])"
   ]
  }
 ],
 "metadata": {
  "kernelspec": {
   "display_name": "Python 3 (ipykernel)",
   "language": "python",
   "name": "python3"
  },
  "language_info": {
   "codemirror_mode": {
    "name": "ipython",
    "version": 3
   },
   "file_extension": ".py",
   "mimetype": "text/x-python",
   "name": "python",
   "nbconvert_exporter": "python",
   "pygments_lexer": "ipython3",
   "version": "3.12.3"
  }
 },
 "nbformat": 4,
 "nbformat_minor": 5
}
